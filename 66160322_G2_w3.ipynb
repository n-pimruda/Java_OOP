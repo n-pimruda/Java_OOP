{
  "nbformat": 4,
  "nbformat_minor": 0,
  "metadata": {
    "colab": {
      "provenance": [],
      "include_colab_link": true
    },
    "kernelspec": {
      "name": "python3",
      "display_name": "Python 3"
    },
    "language_info": {
      "name": "python"
    }
  },
  "cells": [
    {
      "cell_type": "markdown",
      "metadata": {
        "id": "view-in-github",
        "colab_type": "text"
      },
      "source": [
        "<a href=\"https://colab.research.google.com/github/n-pimruda/Java_OOP/blob/main/66160322_G2_w3.ipynb\" target=\"_parent\"><img src=\"https://colab.research.google.com/assets/colab-badge.svg\" alt=\"Open In Colab\"/></a>"
      ]
    },
    {
      "cell_type": "markdown",
      "source": [
        "**การนับแถวเริ่มนับแถวที่ 0, 1, 2,...**\n",
        "**การนับคอลัมน์เริ่มนับคอลัมน์ที่ 0, 1, 2,...**"
      ],
      "metadata": {
        "id": "pzMnEbL0BNR0"
      }
    },
    {
      "cell_type": "markdown",
      "metadata": {
        "id": "dykmieOgFVGc"
      },
      "source": [
        "**ให้นิสิต เลือกเมนู File-->Save a copy in drive เพื่อคัดลอกไฟล์ไปไว้ในไดร์ฟของนิสิตก่อน และเปลี่ยนชื่อไฟล์เป็น รหัสนิสิต_week3.ipynb ก่อนส่งงานค่ะ**\n",
        "\n",
        "1. จงสร้างเมทริกซ์     \n",
        "A =\n",
        "\\begin{bmatrix}\n",
        "2 & -2 & 0   \\\\\n",
        "1 & 4 & -5   \\\\\n",
        "0 & 2 & 3   \\\\\n",
        "\\end{bmatrix}\n",
        "\n",
        "โดยใช้ Python\n",
        "\n",
        "1.1 จงตรวจสอบว่าเมทริกซ์ A เป็นเมทริกซ์เอกฐาน หรือไม่ ถ้าเป็นแสดงข้อความ Singular matrix.\n",
        "\n",
        "1.2 จงแปลงเมทริกซ์ A ให้เป็นเมทริกซ์เอ๊กซลอน (Echelon form matrix) โดยการดำเนินการตามแนวแถว (Elementary row oparation)\n",
        "\n",
        "\n",
        "\n",
        "1.3 จงหาเมทริกซ์ผกผัน (Inverse matrix) ของเมทริกซ์ A\n",
        "\n",
        "1.4 จงตรวจสอบเมทริกซ์ผลลัพธ์ที่ได้จากข้อ 1.3 ว่าถูกต้องหรือไม่ หากถูกต้องแสดงข้อความว่า Correct หากไม่ถูกต้องแสดงข้อความ Incorrect โดยหากไม่ถูกต้องจงแก้ไขให้ถูกต้องด้วย\n",
        "\n",
        "2.จงสร้างเมทริกซ์     \n",
        "A =\n",
        "\\begin{bmatrix}\n",
        "1 & 2 & 1  \\\\\n",
        "2 & -4 & 5  \\\\\n",
        "2 & 4 & 2\n",
        "\\end{bmatrix}\n",
        "โดยใช้ Python\n",
        "\n",
        "2.1\tจงหา det(A)\n",
        "\n",
        "2.2 จงหา Rank ของเมทริกซ์ที่กำหนดโดยใช้วิธีหาเมทริกซ์เอ็ซลอนลดรูปแบบแถว\n"
      ]
    },
    {
      "cell_type": "code",
      "source": [
        "#ชื่อ พิมฤดา ชุมสุข รหัส 66160322"
      ],
      "metadata": {
        "id": "fDeZd0X3AE97"
      },
      "execution_count": null,
      "outputs": []
    },
    {
      "cell_type": "code",
      "source": [
        "#1. จงสร้างเมทริกซ์ A = [[2,-2,0], [1,4,-5], [0,2,3]]\n",
        "import numpy as np\n",
        "A = np.array([[2,-2,0], [1,4,-5], [0,2,3]])\n",
        "print(\"Matrix A = \")\n",
        "print(A)"
      ],
      "metadata": {
        "colab": {
          "base_uri": "https://localhost:8080/"
        },
        "id": "0vxlR_JQzHTt",
        "outputId": "10fff818-b927-4100-a841-783b7debcc08"
      },
      "execution_count": null,
      "outputs": [
        {
          "output_type": "stream",
          "name": "stdout",
          "text": [
            "Matrix A = \n",
            "[[ 2 -2  0]\n",
            " [ 1  4 -5]\n",
            " [ 0  2  3]]\n"
          ]
        }
      ]
    },
    {
      "cell_type": "code",
      "source": [
        "#1.1 จงตรวจสอบว่าเมทริกซ์ A เป็นเมทริกซ์เอกฐาน หรือไม่ ถ้าเป็นแสดงข้อความ Singular matrix.\n",
        "print(\"1.1\")\n",
        "detA = np.around(np.linalg.det(A),decimals=2)\n",
        "print(\"detA = \", detA)\n",
        "if np.linalg.det(A) == 0 :\n",
        "  print(\"Singular matrix.\")\n",
        "else :\n",
        "  print(\"Not Singular matrix\")"
      ],
      "metadata": {
        "colab": {
          "base_uri": "https://localhost:8080/"
        },
        "id": "u_baif60zvMm",
        "outputId": "c29a7739-8269-4c6f-8ec8-752941be2b79"
      },
      "execution_count": null,
      "outputs": [
        {
          "output_type": "stream",
          "name": "stdout",
          "text": [
            "1.1\n",
            "detA =  50.0\n",
            "Not Singular matrix)\n"
          ]
        }
      ]
    },
    {
      "cell_type": "code",
      "source": [
        " #1.2 จงแปลงเมทริกซ์ A ให้เป็นเมทริกซ์เอ๊กซลอน (Echelon form matrix)\n",
        " #โดยการดำเนินการตามแนวแถว (Elementary row oparation)\n",
        "print(\"1.2\")\n",
        "print('Matrix A:')\n",
        "print(A)\n",
        "n=A.shape[0]\n",
        "AI = np.hstack([A,np.identity(n)])\n",
        "print('Matrix [A:I]:')\n",
        "print(AI)\n",
        "\n",
        "def switch_rows(A,i,j):\n",
        "  A[[i, j]] = A[[j, i]]\n",
        "  return A\n",
        "\n",
        "def scale_row(A,k,i):\n",
        "  A[i] = k * A[i]\n",
        "  return A\n",
        "\n",
        "def add_row(A,k,i,j):\n",
        "  A[i] += k * A[j]\n",
        "  return A\n",
        "\n",
        "# สลับแถว R1<->R2\n",
        "A1 = switch_rows(AI,0,1)\n",
        "print('#1 Matrix [A:I]:')\n",
        "print(A1)\n",
        "#เปลี่ยน a12 ให้เป็น 0 โดย R2 -> R2-2R1\n",
        "A2 = add_row(A1,-2,1,0)\n",
        "print('#2 Matrix [A:I]:')\n",
        "print(A2)\n",
        "#เปลี่ยน a22 ให้เป็น 1 โดย R2 -> -1/10R2\n",
        "A3 = scale_row(A2,-1/10,1)\n",
        "print('#3 Matrix [A:I]:')\n",
        "print(A3)\n",
        "#a12, a32 ให้เป็น 0 โดย R1-> R1-4R2 / R3-> R3-2R2\n",
        "A4 = add_row(A3,-4,0,1)\n",
        "A4 = add_row(A3,-2,2,1)\n",
        "print('#4 Matrix [A:I]:')\n",
        "print(A4)\n",
        "#เปลี่ยน a33 = 0 โดย R3 -> 1/5R3\n",
        "A5 = scale_row(A4,1/5,2)\n",
        "print('#5 Matrix [A:I]:')\n",
        "print(A5)\n",
        "#เปลี่ยนให้ a13, a23 เป็น 0 โดย R1 -> R1+R3 / R2 -> R2+R3\n",
        "A6 = add_row(A5,1,0,2)\n",
        "A6 = add_row(A5,1,1,2)\n",
        "print('#6 Matrix [A:I]:')\n",
        "print(A6)"
      ],
      "metadata": {
        "colab": {
          "base_uri": "https://localhost:8080/"
        },
        "id": "2PtlcYxD1LBm",
        "outputId": "64d04bd1-7d63-4ad4-a465-bb33d98381a4"
      },
      "execution_count": null,
      "outputs": [
        {
          "output_type": "stream",
          "name": "stdout",
          "text": [
            "1.2\n",
            "Matrix A:\n",
            "[[ 2 -2  0]\n",
            " [ 1  4 -5]\n",
            " [ 0  2  3]]\n",
            "Matrix [A:I]:\n",
            "[[ 2. -2.  0.  1.  0.  0.]\n",
            " [ 1.  4. -5.  0.  1.  0.]\n",
            " [ 0.  2.  3.  0.  0.  1.]]\n",
            "#1 Matrix [A:I]:\n",
            "[[ 1.  4. -5.  0.  1.  0.]\n",
            " [ 2. -2.  0.  1.  0.  0.]\n",
            " [ 0.  2.  3.  0.  0.  1.]]\n",
            "#2 Matrix [A:I]:\n",
            "[[  1.   4.  -5.   0.   1.   0.]\n",
            " [  0. -10.  10.   1.  -2.   0.]\n",
            " [  0.   2.   3.   0.   0.   1.]]\n",
            "#3 Matrix [A:I]:\n",
            "[[ 1.   4.  -5.   0.   1.   0. ]\n",
            " [-0.   1.  -1.  -0.1  0.2 -0. ]\n",
            " [ 0.   2.   3.   0.   0.   1. ]]\n",
            "#4 Matrix [A:I]:\n",
            "[[ 1.   0.  -1.   0.4  0.2  0. ]\n",
            " [-0.   1.  -1.  -0.1  0.2 -0. ]\n",
            " [ 0.   0.   5.   0.2 -0.4  1. ]]\n",
            "#5 Matrix [A:I]:\n",
            "[[ 1.    0.   -1.    0.4   0.2   0.  ]\n",
            " [-0.    1.   -1.   -0.1   0.2  -0.  ]\n",
            " [ 0.    0.    1.    0.04 -0.08  0.2 ]]\n",
            "#6 Matrix [A:I]:\n",
            "[[ 1.    0.    0.    0.44  0.12  0.2 ]\n",
            " [ 0.    1.    0.   -0.06  0.12  0.2 ]\n",
            " [ 0.    0.    1.    0.04 -0.08  0.2 ]]\n"
          ]
        }
      ]
    },
    {
      "cell_type": "code",
      "source": [
        "#1.3 จงหาเมทริกซ์ผกผัน (Inverse matrix) ของเมทริกซ์ A\n",
        "print(\"Inverse of Matrix A = \")\n",
        "print(np.around(np.linalg.inv(A),decimals=2))"
      ],
      "metadata": {
        "colab": {
          "base_uri": "https://localhost:8080/"
        },
        "id": "62l5MIRe1bFO",
        "outputId": "a9e39d13-85a5-4b86-b9c2-b0c467f65c41"
      },
      "execution_count": null,
      "outputs": [
        {
          "output_type": "stream",
          "name": "stdout",
          "text": [
            "Inverse of Matrix A = \n",
            "[[ 0.44  0.12  0.2 ]\n",
            " [-0.06  0.12  0.2 ]\n",
            " [ 0.04 -0.08  0.2 ]]\n"
          ]
        }
      ]
    },
    {
      "cell_type": "code",
      "source": [
        "#\n",
        "Ainv = A6[:,n:]\n",
        "print('Matrix A inverse:')\n",
        "print(Ainv)"
      ],
      "metadata": {
        "colab": {
          "base_uri": "https://localhost:8080/"
        },
        "id": "VgPu8UE2AKOP",
        "outputId": "ab256b8d-6d19-4990-d94b-da4ddbd618ef"
      },
      "execution_count": null,
      "outputs": [
        {
          "output_type": "stream",
          "name": "stdout",
          "text": [
            "Matrix A inverse:\n",
            "[[ 0.44  0.12  0.2 ]\n",
            " [-0.06  0.12  0.2 ]\n",
            " [ 0.04 -0.08  0.2 ]]\n"
          ]
        }
      ]
    },
    {
      "cell_type": "code",
      "source": [
        "#1.4 จงตรวจสอบเมทริกซ์ผลลัพธ์ที่ได้จากข้อ 1.3 ว่าถูกต้องหรือไม่\n",
        "#หากถูกต้องแสดงข้อความว่า Correct หากไม่ถูกต้องแสดงข้อความ Incorrect โดยหากไม่ถูกต้องจงแก้ไขให้ถูกต้องด้วย\n",
        "print(\"1.4\")\n",
        "print('Matrix A @ Matrix A inverse')\n",
        "print(A@Ainv)\n",
        "print(np.around(A@Ainv,decimals=0))\n",
        "if np.array_equal(np.around(A@Ainv,decimals=0),np.identity(n)):\n",
        "  print(\"Correct\")\n",
        "else:\n",
        "  print(\"Incorrect\")"
      ],
      "metadata": {
        "colab": {
          "base_uri": "https://localhost:8080/"
        },
        "id": "0jW8atTg_hw7",
        "outputId": "9d9a0a1e-1fc8-44b9-8e5b-b346b9e95d74"
      },
      "execution_count": null,
      "outputs": [
        {
          "output_type": "stream",
          "name": "stdout",
          "text": [
            "1.4\n",
            "Matrix A @ Matrix A inverse\n",
            "[[ 1.00000000e+00 -1.11022302e-16  0.00000000e+00]\n",
            " [ 2.77555756e-17  1.00000000e+00 -5.55111512e-17]\n",
            " [ 2.77555756e-17 -5.55111512e-17  1.00000000e+00]]\n",
            "[[ 1. -0.  0.]\n",
            " [ 0.  1. -0.]\n",
            " [ 0. -0.  1.]]\n",
            "Correct\n"
          ]
        }
      ]
    },
    {
      "cell_type": "code",
      "source": [
        "#2. จงสร้างเมทริกซ์ A = [[1,2,1], [2,-4,5], [2,4,2]]\n",
        "A = np.array([[1,2,1], [2,-4,5], [2,4,2]])\n",
        "print(\"Matrix A = \")\n",
        "print(A)"
      ],
      "metadata": {
        "colab": {
          "base_uri": "https://localhost:8080/"
        },
        "id": "S6uHavhKARjA",
        "outputId": "bbc48594-4780-4564-93b3-a8cd8da2e871"
      },
      "execution_count": null,
      "outputs": [
        {
          "output_type": "stream",
          "name": "stdout",
          "text": [
            "Matrix A = \n",
            "[[ 1  2  1]\n",
            " [ 2 -4  5]\n",
            " [ 2  4  2]]\n"
          ]
        }
      ]
    },
    {
      "cell_type": "code",
      "source": [
        "#2.1 จงหา det(A)\n",
        "print(\"2.1\")\n",
        "detA = np.around(np.linalg.det(A),decimals=2)\n",
        "print(\"detA = \", detA)"
      ],
      "metadata": {
        "colab": {
          "base_uri": "https://localhost:8080/"
        },
        "id": "bBS_PqnbBOrW",
        "outputId": "66d6a8af-bbc3-429c-ba69-98d9c9ee8a8f"
      },
      "execution_count": null,
      "outputs": [
        {
          "output_type": "stream",
          "name": "stdout",
          "text": [
            "2.1\n",
            "detA =  0.0\n"
          ]
        }
      ]
    },
    {
      "cell_type": "code",
      "source": [
        "#2.2 จงหา Rank ของเมทริกซ์ที่กำหนดโดยใช้วิธีหาเมทริกซ์เอ็ซลอนลดรูปแบบแถว\n",
        "A = np.array([[1,2,1], [2,-4,5], [2,4,2]])\n",
        "print('Matrix A:')\n",
        "print(A)\n",
        "n=A.shape[0]\n",
        "\n",
        "def switch_rows(A,i,j):\n",
        "  A[[i, j]] = A[[j, i]]\n",
        "  return A\n",
        "\n",
        "def scale_row(A,k,i):\n",
        "  A[i] = k * A[i]\n",
        "  return A\n",
        "\n",
        "def add_row(A,k,i,j):\n",
        "  A[i] += k * A[j]\n",
        "  return A\n",
        "\n",
        "#เปลี่ยน a21, a31 เป็น 0 โดย R->R2-2R1 / R3->R3-2R1\n",
        "A1 = add_row(A,-2,1,0)\n",
        "A1 = add_row(A,-2,2,0)\n",
        "print('#1 Matrix A:')\n",
        "print(A1)\n",
        "#เปลี่ยน a22 เป็น 1 โดย R2->-1/8R2\n",
        "A2 = scale_row(A1,-1/8,1)\n",
        "print('#2 Matrix A:')\n",
        "print(A2)\n",
        "#เปลี่ยน a12 เป็น 0 โดย R1-> R1-2R2\n",
        "A3 = add_row(A2,-2,0,1)\n",
        "print('#3 Matrix A:')\n",
        "print(A3)"
      ],
      "metadata": {
        "colab": {
          "base_uri": "https://localhost:8080/"
        },
        "id": "seRaUaWsBjcf",
        "outputId": "29f4355f-4fcf-4d65-ecb5-13b75b36076b"
      },
      "execution_count": null,
      "outputs": [
        {
          "output_type": "stream",
          "name": "stdout",
          "text": [
            "Matrix A:\n",
            "[[ 1  2  1]\n",
            " [ 2 -4  5]\n",
            " [ 2  4  2]]\n",
            "#1 Matrix A:\n",
            "[[ 1  2  1]\n",
            " [ 0 -8  3]\n",
            " [ 0  0  0]]\n",
            "#2 Matrix A:\n",
            "[[1 2 1]\n",
            " [0 1 0]\n",
            " [0 0 0]]\n",
            "#3 Matrix A:\n",
            "[[1 0 1]\n",
            " [0 1 0]\n",
            " [0 0 0]]\n"
          ]
        }
      ]
    },
    {
      "cell_type": "code",
      "source": [
        "print(\"2.2\")\n",
        "print(' Echelon Matrix A:')\n",
        "print(A3)\n",
        "result = np.all((A3 == 0), axis=1)\n",
        "print('Is zero row?',result)\n",
        "zero_row=len([i for i in range(n) if result[i] ])\n",
        "rankA=n-zero_row\n",
        "print('2.2 Rank A =',rankA)\n",
        "print('2.2 Rank A = ',np.linalg.matrix_rank(A))"
      ],
      "metadata": {
        "colab": {
          "base_uri": "https://localhost:8080/"
        },
        "id": "Ko2o962HGIZE",
        "outputId": "abdf6c51-cbbf-4524-ee56-64a535fc1634"
      },
      "execution_count": null,
      "outputs": [
        {
          "output_type": "stream",
          "name": "stdout",
          "text": [
            "2.2\n",
            " Echelon Matrix A:\n",
            "[[1 0 1]\n",
            " [0 1 0]\n",
            " [0 0 0]]\n",
            "Is zero row? [False False  True]\n",
            "2.2 Rank A = 2\n",
            "2.2 Rank A =  2\n"
          ]
        }
      ]
    }
  ]
}